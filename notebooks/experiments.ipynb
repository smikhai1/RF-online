{
 "cells": [
  {
   "cell_type": "code",
   "execution_count": 1,
   "metadata": {},
   "outputs": [],
   "source": [
    "%load_ext autoreload\n",
    "%autoreload 2"
   ]
  },
  {
   "cell_type": "code",
   "execution_count": 66,
   "metadata": {},
   "outputs": [],
   "source": [
    "import numpy as np\n",
    "import matplotlib.pyplot as plt\n",
    "import sys\n",
    "import pandas as pd\n",
    "import h5py\n",
    "from sklearn.model_selection import train_test_split\n",
    "from sklearn.metrics import accuracy_score\n",
    "import seaborn as sns\n",
    "sns.set()"
   ]
  },
  {
   "cell_type": "code",
   "execution_count": 3,
   "metadata": {},
   "outputs": [],
   "source": [
    "sys.path.append('/Users/mikhail/projects/edu/skoltech/ml/project/RF-online/src')"
   ]
  },
  {
   "cell_type": "code",
   "execution_count": 4,
   "metadata": {},
   "outputs": [],
   "source": [
    "from offline.decision_tree import DecisionTreeClassifier\n",
    "from offline.random_forest import RandomForestClassifier"
   ]
  },
  {
   "cell_type": "markdown",
   "metadata": {},
   "source": [
    "### Data preprocessing"
   ]
  },
  {
   "cell_type": "markdown",
   "metadata": {},
   "source": [
    "Load datasets for the experiments, deal with NaNs and encode categorical features (if necessary), split in train and test sets. All datasets are contained in one dictionary. "
   ]
  },
  {
   "cell_type": "code",
   "execution_count": 5,
   "metadata": {},
   "outputs": [],
   "source": [
    "PATH = '../data/'"
   ]
  },
  {
   "cell_type": "code",
   "execution_count": 6,
   "metadata": {},
   "outputs": [],
   "source": [
    "datasets = {'usps': {}}"
   ]
  },
  {
   "cell_type": "markdown",
   "metadata": {},
   "source": [
    "Load USPS dataset https://www.kaggle.com/bistaumanga/usps-dataset/version/1"
   ]
  },
  {
   "cell_type": "code",
   "execution_count": 7,
   "metadata": {},
   "outputs": [],
   "source": [
    "with h5py.File(PATH + 'usps.h5', 'r') as hf:\n",
    "        train = hf.get('train')\n",
    "        datasets['usps']['X_train'] = train.get('data')[:]\n",
    "        datasets['usps']['y_train'] = train.get('target')[:]\n",
    "        test = hf.get('test')\n",
    "        datasets['usps']['X_test'] = test.get('data')[:]\n",
    "        datasets['usps']['y_test'] = test.get('target')[:]"
   ]
  },
  {
   "cell_type": "markdown",
   "metadata": {},
   "source": [
    "Load letter dataset https://archive.ics.uci.edu/ml/datasets/letter+recognition"
   ]
  },
  {
   "cell_type": "code",
   "execution_count": 8,
   "metadata": {},
   "outputs": [],
   "source": [
    "cols = ['lettr', 'x-box', 'y-box', 'width', 'high', 'onpix', 'x-bar',\n",
    "       'y-bar', 'x2bar', 'y2bar', 'xybar', 'x2ybr', 'xy2br', 'x-ege',\n",
    "       'xegvy', 'y-ege', 'yegvx'\n",
    "       ]\n",
    "\n",
    "letter_dataset = pd.read_csv(PATH + 'letter-recognition.data.txt', sep=',', names=cols)"
   ]
  },
  {
   "cell_type": "code",
   "execution_count": 9,
   "metadata": {},
   "outputs": [
    {
     "data": {
      "text/html": [
       "<div>\n",
       "<style scoped>\n",
       "    .dataframe tbody tr th:only-of-type {\n",
       "        vertical-align: middle;\n",
       "    }\n",
       "\n",
       "    .dataframe tbody tr th {\n",
       "        vertical-align: top;\n",
       "    }\n",
       "\n",
       "    .dataframe thead th {\n",
       "        text-align: right;\n",
       "    }\n",
       "</style>\n",
       "<table border=\"1\" class=\"dataframe\">\n",
       "  <thead>\n",
       "    <tr style=\"text-align: right;\">\n",
       "      <th></th>\n",
       "      <th>lettr</th>\n",
       "      <th>x-box</th>\n",
       "      <th>y-box</th>\n",
       "      <th>width</th>\n",
       "      <th>high</th>\n",
       "      <th>onpix</th>\n",
       "      <th>x-bar</th>\n",
       "      <th>y-bar</th>\n",
       "      <th>x2bar</th>\n",
       "      <th>y2bar</th>\n",
       "      <th>xybar</th>\n",
       "      <th>x2ybr</th>\n",
       "      <th>xy2br</th>\n",
       "      <th>x-ege</th>\n",
       "      <th>xegvy</th>\n",
       "      <th>y-ege</th>\n",
       "      <th>yegvx</th>\n",
       "    </tr>\n",
       "  </thead>\n",
       "  <tbody>\n",
       "    <tr>\n",
       "      <th>0</th>\n",
       "      <td>T</td>\n",
       "      <td>2</td>\n",
       "      <td>8</td>\n",
       "      <td>3</td>\n",
       "      <td>5</td>\n",
       "      <td>1</td>\n",
       "      <td>8</td>\n",
       "      <td>13</td>\n",
       "      <td>0</td>\n",
       "      <td>6</td>\n",
       "      <td>6</td>\n",
       "      <td>10</td>\n",
       "      <td>8</td>\n",
       "      <td>0</td>\n",
       "      <td>8</td>\n",
       "      <td>0</td>\n",
       "      <td>8</td>\n",
       "    </tr>\n",
       "    <tr>\n",
       "      <th>1</th>\n",
       "      <td>I</td>\n",
       "      <td>5</td>\n",
       "      <td>12</td>\n",
       "      <td>3</td>\n",
       "      <td>7</td>\n",
       "      <td>2</td>\n",
       "      <td>10</td>\n",
       "      <td>5</td>\n",
       "      <td>5</td>\n",
       "      <td>4</td>\n",
       "      <td>13</td>\n",
       "      <td>3</td>\n",
       "      <td>9</td>\n",
       "      <td>2</td>\n",
       "      <td>8</td>\n",
       "      <td>4</td>\n",
       "      <td>10</td>\n",
       "    </tr>\n",
       "    <tr>\n",
       "      <th>2</th>\n",
       "      <td>D</td>\n",
       "      <td>4</td>\n",
       "      <td>11</td>\n",
       "      <td>6</td>\n",
       "      <td>8</td>\n",
       "      <td>6</td>\n",
       "      <td>10</td>\n",
       "      <td>6</td>\n",
       "      <td>2</td>\n",
       "      <td>6</td>\n",
       "      <td>10</td>\n",
       "      <td>3</td>\n",
       "      <td>7</td>\n",
       "      <td>3</td>\n",
       "      <td>7</td>\n",
       "      <td>3</td>\n",
       "      <td>9</td>\n",
       "    </tr>\n",
       "    <tr>\n",
       "      <th>3</th>\n",
       "      <td>N</td>\n",
       "      <td>7</td>\n",
       "      <td>11</td>\n",
       "      <td>6</td>\n",
       "      <td>6</td>\n",
       "      <td>3</td>\n",
       "      <td>5</td>\n",
       "      <td>9</td>\n",
       "      <td>4</td>\n",
       "      <td>6</td>\n",
       "      <td>4</td>\n",
       "      <td>4</td>\n",
       "      <td>10</td>\n",
       "      <td>6</td>\n",
       "      <td>10</td>\n",
       "      <td>2</td>\n",
       "      <td>8</td>\n",
       "    </tr>\n",
       "    <tr>\n",
       "      <th>4</th>\n",
       "      <td>G</td>\n",
       "      <td>2</td>\n",
       "      <td>1</td>\n",
       "      <td>3</td>\n",
       "      <td>1</td>\n",
       "      <td>1</td>\n",
       "      <td>8</td>\n",
       "      <td>6</td>\n",
       "      <td>6</td>\n",
       "      <td>6</td>\n",
       "      <td>6</td>\n",
       "      <td>5</td>\n",
       "      <td>9</td>\n",
       "      <td>1</td>\n",
       "      <td>7</td>\n",
       "      <td>5</td>\n",
       "      <td>10</td>\n",
       "    </tr>\n",
       "  </tbody>\n",
       "</table>\n",
       "</div>"
      ],
      "text/plain": [
       "  lettr  x-box  y-box  width  high  onpix  x-bar  y-bar  x2bar  y2bar  xybar  \\\n",
       "0     T      2      8      3     5      1      8     13      0      6      6   \n",
       "1     I      5     12      3     7      2     10      5      5      4     13   \n",
       "2     D      4     11      6     8      6     10      6      2      6     10   \n",
       "3     N      7     11      6     6      3      5      9      4      6      4   \n",
       "4     G      2      1      3     1      1      8      6      6      6      6   \n",
       "\n",
       "   x2ybr  xy2br  x-ege  xegvy  y-ege  yegvx  \n",
       "0     10      8      0      8      0      8  \n",
       "1      3      9      2      8      4     10  \n",
       "2      3      7      3      7      3      9  \n",
       "3      4     10      6     10      2      8  \n",
       "4      5      9      1      7      5     10  "
      ]
     },
     "execution_count": 9,
     "metadata": {},
     "output_type": "execute_result"
    }
   ],
   "source": [
    "letter_dataset.head(5)"
   ]
  },
  {
   "cell_type": "code",
   "execution_count": 10,
   "metadata": {},
   "outputs": [
    {
     "name": "stdout",
     "output_type": "stream",
     "text": [
      "<class 'pandas.core.frame.DataFrame'>\n",
      "RangeIndex: 20000 entries, 0 to 19999\n",
      "Data columns (total 17 columns):\n",
      "lettr    20000 non-null object\n",
      "x-box    20000 non-null int64\n",
      "y-box    20000 non-null int64\n",
      "width    20000 non-null int64\n",
      "high     20000 non-null int64\n",
      "onpix    20000 non-null int64\n",
      "x-bar    20000 non-null int64\n",
      "y-bar    20000 non-null int64\n",
      "x2bar    20000 non-null int64\n",
      "y2bar    20000 non-null int64\n",
      "xybar    20000 non-null int64\n",
      "x2ybr    20000 non-null int64\n",
      "xy2br    20000 non-null int64\n",
      "x-ege    20000 non-null int64\n",
      "xegvy    20000 non-null int64\n",
      "y-ege    20000 non-null int64\n",
      "yegvx    20000 non-null int64\n",
      "dtypes: int64(16), object(1)\n",
      "memory usage: 2.6+ MB\n"
     ]
    }
   ],
   "source": [
    "letter_dataset.info()"
   ]
  },
  {
   "cell_type": "markdown",
   "metadata": {},
   "source": [
    "Encode the target"
   ]
  },
  {
   "cell_type": "code",
   "execution_count": 11,
   "metadata": {},
   "outputs": [],
   "source": [
    "letter_dataset['lettr'] = letter_dataset['lettr'].astype('category')"
   ]
  },
  {
   "cell_type": "code",
   "execution_count": 12,
   "metadata": {},
   "outputs": [],
   "source": [
    "letter_dataset['lettr'] = letter_dataset['lettr'].cat.codes"
   ]
  },
  {
   "cell_type": "code",
   "execution_count": 13,
   "metadata": {},
   "outputs": [
    {
     "data": {
      "text/html": [
       "<div>\n",
       "<style scoped>\n",
       "    .dataframe tbody tr th:only-of-type {\n",
       "        vertical-align: middle;\n",
       "    }\n",
       "\n",
       "    .dataframe tbody tr th {\n",
       "        vertical-align: top;\n",
       "    }\n",
       "\n",
       "    .dataframe thead th {\n",
       "        text-align: right;\n",
       "    }\n",
       "</style>\n",
       "<table border=\"1\" class=\"dataframe\">\n",
       "  <thead>\n",
       "    <tr style=\"text-align: right;\">\n",
       "      <th></th>\n",
       "      <th>lettr</th>\n",
       "      <th>x-box</th>\n",
       "      <th>y-box</th>\n",
       "      <th>width</th>\n",
       "      <th>high</th>\n",
       "      <th>onpix</th>\n",
       "      <th>x-bar</th>\n",
       "      <th>y-bar</th>\n",
       "      <th>x2bar</th>\n",
       "      <th>y2bar</th>\n",
       "      <th>xybar</th>\n",
       "      <th>x2ybr</th>\n",
       "      <th>xy2br</th>\n",
       "      <th>x-ege</th>\n",
       "      <th>xegvy</th>\n",
       "      <th>y-ege</th>\n",
       "      <th>yegvx</th>\n",
       "    </tr>\n",
       "  </thead>\n",
       "  <tbody>\n",
       "    <tr>\n",
       "      <th>0</th>\n",
       "      <td>19</td>\n",
       "      <td>2</td>\n",
       "      <td>8</td>\n",
       "      <td>3</td>\n",
       "      <td>5</td>\n",
       "      <td>1</td>\n",
       "      <td>8</td>\n",
       "      <td>13</td>\n",
       "      <td>0</td>\n",
       "      <td>6</td>\n",
       "      <td>6</td>\n",
       "      <td>10</td>\n",
       "      <td>8</td>\n",
       "      <td>0</td>\n",
       "      <td>8</td>\n",
       "      <td>0</td>\n",
       "      <td>8</td>\n",
       "    </tr>\n",
       "    <tr>\n",
       "      <th>1</th>\n",
       "      <td>8</td>\n",
       "      <td>5</td>\n",
       "      <td>12</td>\n",
       "      <td>3</td>\n",
       "      <td>7</td>\n",
       "      <td>2</td>\n",
       "      <td>10</td>\n",
       "      <td>5</td>\n",
       "      <td>5</td>\n",
       "      <td>4</td>\n",
       "      <td>13</td>\n",
       "      <td>3</td>\n",
       "      <td>9</td>\n",
       "      <td>2</td>\n",
       "      <td>8</td>\n",
       "      <td>4</td>\n",
       "      <td>10</td>\n",
       "    </tr>\n",
       "    <tr>\n",
       "      <th>2</th>\n",
       "      <td>3</td>\n",
       "      <td>4</td>\n",
       "      <td>11</td>\n",
       "      <td>6</td>\n",
       "      <td>8</td>\n",
       "      <td>6</td>\n",
       "      <td>10</td>\n",
       "      <td>6</td>\n",
       "      <td>2</td>\n",
       "      <td>6</td>\n",
       "      <td>10</td>\n",
       "      <td>3</td>\n",
       "      <td>7</td>\n",
       "      <td>3</td>\n",
       "      <td>7</td>\n",
       "      <td>3</td>\n",
       "      <td>9</td>\n",
       "    </tr>\n",
       "    <tr>\n",
       "      <th>3</th>\n",
       "      <td>13</td>\n",
       "      <td>7</td>\n",
       "      <td>11</td>\n",
       "      <td>6</td>\n",
       "      <td>6</td>\n",
       "      <td>3</td>\n",
       "      <td>5</td>\n",
       "      <td>9</td>\n",
       "      <td>4</td>\n",
       "      <td>6</td>\n",
       "      <td>4</td>\n",
       "      <td>4</td>\n",
       "      <td>10</td>\n",
       "      <td>6</td>\n",
       "      <td>10</td>\n",
       "      <td>2</td>\n",
       "      <td>8</td>\n",
       "    </tr>\n",
       "    <tr>\n",
       "      <th>4</th>\n",
       "      <td>6</td>\n",
       "      <td>2</td>\n",
       "      <td>1</td>\n",
       "      <td>3</td>\n",
       "      <td>1</td>\n",
       "      <td>1</td>\n",
       "      <td>8</td>\n",
       "      <td>6</td>\n",
       "      <td>6</td>\n",
       "      <td>6</td>\n",
       "      <td>6</td>\n",
       "      <td>5</td>\n",
       "      <td>9</td>\n",
       "      <td>1</td>\n",
       "      <td>7</td>\n",
       "      <td>5</td>\n",
       "      <td>10</td>\n",
       "    </tr>\n",
       "  </tbody>\n",
       "</table>\n",
       "</div>"
      ],
      "text/plain": [
       "   lettr  x-box  y-box  width  high  onpix  x-bar  y-bar  x2bar  y2bar  xybar  \\\n",
       "0     19      2      8      3     5      1      8     13      0      6      6   \n",
       "1      8      5     12      3     7      2     10      5      5      4     13   \n",
       "2      3      4     11      6     8      6     10      6      2      6     10   \n",
       "3     13      7     11      6     6      3      5      9      4      6      4   \n",
       "4      6      2      1      3     1      1      8      6      6      6      6   \n",
       "\n",
       "   x2ybr  xy2br  x-ege  xegvy  y-ege  yegvx  \n",
       "0     10      8      0      8      0      8  \n",
       "1      3      9      2      8      4     10  \n",
       "2      3      7      3      7      3      9  \n",
       "3      4     10      6     10      2      8  \n",
       "4      5      9      1      7      5     10  "
      ]
     },
     "execution_count": 13,
     "metadata": {},
     "output_type": "execute_result"
    }
   ],
   "source": [
    "letter_dataset.head(5)"
   ]
  },
  {
   "cell_type": "code",
   "execution_count": 14,
   "metadata": {},
   "outputs": [],
   "source": [
    "X = letter_dataset.iloc[:, 1:].values\n",
    "y = letter_dataset.iloc[:, 1].values"
   ]
  },
  {
   "cell_type": "markdown",
   "metadata": {},
   "source": [
    "Split into train and test sets"
   ]
  },
  {
   "cell_type": "code",
   "execution_count": 15,
   "metadata": {},
   "outputs": [],
   "source": [
    "datasets['letters'] = {}"
   ]
  },
  {
   "cell_type": "code",
   "execution_count": 16,
   "metadata": {},
   "outputs": [],
   "source": [
    "X_train, X_test, y_train, y_test = train_test_split(X, y, test_size=.3, shuffle=True)\n",
    "datasets['letters']['X_train'] = X_train\n",
    "datasets['letters']['X_test'] = X_test\n",
    "datasets['letters']['y_train'] = y_train\n",
    "datasets['letters']['y_test'] = y_test"
   ]
  },
  {
   "cell_type": "markdown",
   "metadata": {},
   "source": [
    "___"
   ]
  },
  {
   "cell_type": "markdown",
   "metadata": {},
   "source": [
    "### Experiments"
   ]
  },
  {
   "cell_type": "markdown",
   "metadata": {},
   "source": [
    "We consider classification problems. \n",
    "\n",
    "In these experiments we firstly use offline implementations of Random Forest and Decision Tree. To make them work in online mode all train sets are divided into $k$ batches and then online refitting of RF is modeled using three different strategies: \n",
    "\n",
    "1. Initially dataset is presented as one batch. Then all batches are sequentially added to the dataset. Random Forest model is firstly trained on the initial dataset, and then completely refitted on the updated dataset as new batches added. After each refitting the model is evaluated on the test dataset. This process is repeated 10 times to account for the randomness in RF algorithm. \n",
    "\n",
    "2. At each updating of the dataset, some number of trees in the ensamble is randomly removed (the less OOB score a tree has, the higher the probability of it to be removed) and then this number of tree is fit on the new data, OOB scores are updated for all trees on the new data. \n",
    "\n",
    "3. This strategy is pretty similar to the second one and models the situation when the data doesn't fit into RAM. The difference between this strategy and the second one is that instead of accumulating of the data we preserve the size of the dataset constant, using rolling-window, and refit the ensamble as in the second strategy but only on this dataset. \n",
    "\n",
    "Due to the fact that all datasets are balanced, more or less, we use accuracy as quality metric. "
   ]
  },
  {
   "cell_type": "markdown",
   "metadata": {},
   "source": [
    "After that, we consider different Random Forest algorithms, which are specially designed for serving in the online mode. "
   ]
  },
  {
   "cell_type": "markdown",
   "metadata": {},
   "source": [
    "As the outcome of each experiment we want to obtain the dependency between the dataset size and the perfomance of the model for each dataset and for three models: offline DT, offline RF and online RF. Also we compare offline and online learning algorithms in time complexity. "
   ]
  },
  {
   "cell_type": "markdown",
   "metadata": {},
   "source": [
    "___"
   ]
  },
  {
   "cell_type": "markdown",
   "metadata": {},
   "source": [
    "#### First strategy (Full refitting)"
   ]
  },
  {
   "cell_type": "code",
   "execution_count": 17,
   "metadata": {},
   "outputs": [],
   "source": [
    "results = {'USPS': {}, 'Letters': {}}"
   ]
  },
  {
   "cell_type": "code",
   "execution_count": 45,
   "metadata": {},
   "outputs": [],
   "source": [
    "def full_refit(dataset, model, n_batches=10, n_repeats=10, **params):\n",
    "    \n",
    "    X_train, y_train, X_test, y_test = dataset['X_train'], dataset['y_train'],\\\n",
    "                                       dataset['X_test'], dataset['y_test']\n",
    "    \n",
    "    m, d = X_train.shape\n",
    "    scores = []\n",
    "    batch_size = int(m // n_batches)\n",
    "    for k in range(n_batches):\n",
    "        if k != n_batches - 1:\n",
    "            X = X_train[:(k+1)*batch_size]\n",
    "            y = y_train[:(k+1)*batch_size]\n",
    "        else:\n",
    "            # the last update -- full dataset\n",
    "            X = X_train\n",
    "            y = y_train\n",
    "        \n",
    "        local_scores = []\n",
    "        for n in range(n_repeats):\n",
    "            model_ = model(**params)\n",
    "            model_.fit(X, y)\n",
    "            y_pred = model_.predict(X_test)\n",
    "            local_scores.append(accuracy_score(y_test, y_pred))\n",
    "        scores.append(local_scores)\n",
    "        print(f'{k} round completed' )\n",
    "    \n",
    "    return scores       "
   ]
  },
  {
   "cell_type": "code",
   "execution_count": 39,
   "metadata": {},
   "outputs": [
    {
     "name": "stdout",
     "output_type": "stream",
     "text": [
      "0 round completed\n",
      "1 round completed\n",
      "2 round completed\n",
      "3 round completed\n",
      "4 round completed\n",
      "5 round completed\n",
      "6 round completed\n",
      "7 round completed\n",
      "8 round completed\n",
      "9 round completed\n",
      "CPU times: user 17min 7s, sys: 2min 41s, total: 19min 48s\n",
      "Wall time: 19min 58s\n"
     ]
    }
   ],
   "source": [
    "%%time\n",
    "params = {'n_estimators' : 10, 'splitter' : 'random', 'criterion' : 'gini',\n",
    "           'min_samples_split' : 50, 'bootstrap' : True}\n",
    "\n",
    "rf = RandomForestClassifier\n",
    "rf_scores = full_refit(datasets['usps'], rf, **params)"
   ]
  },
  {
   "cell_type": "code",
   "execution_count": 54,
   "metadata": {},
   "outputs": [],
   "source": [
    "first_strategy_scores = np.array(rf_scores)\n",
    "first_strategy_means = np.mean(first_strategy_scores, axis=1)\n",
    "first_strategy_stds = np.std(first_strategy_scores, axis=1)\n",
    "results['USPS']['RF_1'] = (first_strategy_means, first_strategy_stds)"
   ]
  },
  {
   "cell_type": "code",
   "execution_count": 46,
   "metadata": {},
   "outputs": [
    {
     "name": "stdout",
     "output_type": "stream",
     "text": [
      "0 round completed\n",
      "1 round completed\n",
      "2 round completed\n",
      "3 round completed\n",
      "4 round completed\n",
      "5 round completed\n",
      "6 round completed\n",
      "7 round completed\n",
      "8 round completed\n",
      "9 round completed\n",
      "CPU times: user 20min 40s, sys: 43.8 s, total: 21min 24s\n",
      "Wall time: 21min 26s\n"
     ]
    }
   ],
   "source": [
    "%%time\n",
    "params = {'splitter' : 'random', 'criterion' : 'gini',\n",
    "           'min_samples_split' : 50}\n",
    "\n",
    "dt = DecisionTreeClassifier\n",
    "dt_scores = full_refit(datasets['usps'], dt, **params)"
   ]
  },
  {
   "cell_type": "code",
   "execution_count": 53,
   "metadata": {},
   "outputs": [],
   "source": [
    "first_strategy_scores = np.array(dt_scores)\n",
    "first_strategy_means = np.mean(first_strategy_scores, axis=1)\n",
    "first_strategy_stds = np.std(first_strategy_scores, axis=1)\n",
    "results['USPS']['DT'] = (first_strategy_means, first_strategy_stds)"
   ]
  },
  {
   "cell_type": "markdown",
   "metadata": {},
   "source": [
    "___"
   ]
  },
  {
   "cell_type": "markdown",
   "metadata": {},
   "source": [
    "#### Second strategy (partial refitting) "
   ]
  },
  {
   "cell_type": "code",
   "execution_count": 76,
   "metadata": {},
   "outputs": [],
   "source": [
    "def partial_refit(dataset, model, n_batches=10, n_repeats=10, **params):\n",
    "    \n",
    "    X_train, y_train, X_test, y_test = dataset['X_train'], dataset['y_train'],\\\n",
    "                                       dataset['X_test'], dataset['y_test']\n",
    "    \n",
    "    m, d = X_train.shape\n",
    "    scores = []\n",
    "    batch_size = int(m // n_batches)\n",
    "    for k in range(n_batches):\n",
    "        if k != n_batches - 1:\n",
    "            X = X_train[:(k+1)*batch_size]\n",
    "            y = y_train[:(k+1)*batch_size]\n",
    "        else:\n",
    "            # the last update -- full dataset\n",
    "            X = X_train\n",
    "            y = y_train\n",
    "        \n",
    "        local_scores = []\n",
    "        for n in range(n_repeats):\n",
    "            if k == 0:\n",
    "                model_ = model(**params)\n",
    "                model_.fit(X, y)\n",
    "            else:\n",
    "                model_.refit(X, y)\n",
    "            y_pred = model_.predict(X_test)\n",
    "            local_scores.append(accuracy_score(y_test, y_pred))\n",
    "        scores.append(local_scores)\n",
    "        print(f'{k} round completed' )\n",
    "    \n",
    "    return scores       "
   ]
  },
  {
   "cell_type": "code",
   "execution_count": 77,
   "metadata": {},
   "outputs": [
    {
     "name": "stdout",
     "output_type": "stream",
     "text": [
      "0 round completed\n",
      "1 round completed\n",
      "2 round completed\n",
      "3 round completed\n",
      "4 round completed\n",
      "5 round completed\n",
      "6 round completed\n",
      "7 round completed\n",
      "8 round completed\n",
      "9 round completed\n",
      "CPU times: user 5min 23s, sys: 49.9 s, total: 6min 13s\n",
      "Wall time: 6min 15s\n"
     ]
    }
   ],
   "source": [
    "%%time\n",
    "params = {'n_estimators' : 10, 'splitter' : 'random', 'criterion' : 'gini',\n",
    "           'min_samples_split' : 50, 'bootstrap' : True, 'oob_score': True}\n",
    "\n",
    "rf = RandomForestClassifier\n",
    "rf_scores = partial_refit(datasets['usps'], rf, **params)"
   ]
  },
  {
   "cell_type": "code",
   "execution_count": 86,
   "metadata": {},
   "outputs": [],
   "source": [
    "second_strategy_scores = np.array(rf_scores)\n",
    "second_strategy_means = np.mean(second_strategy_scores, axis=1)\n",
    "second_strategy_stds = np.std(second_strategy_scores, axis=1)\n",
    "results['USPS']['RF_2'] = (second_strategy_means, second_strategy_stds)"
   ]
  },
  {
   "cell_type": "markdown",
   "metadata": {},
   "source": [
    "___"
   ]
  },
  {
   "cell_type": "markdown",
   "metadata": {},
   "source": [
    "#### Third strategy (sliding window refitting)"
   ]
  },
  {
   "cell_type": "code",
   "execution_count": 82,
   "metadata": {},
   "outputs": [],
   "source": [
    "def sliding_window_refit(dataset, model, n_batches=10, n_repeats=10, **params):\n",
    "    \n",
    "    X_train, y_train, X_test, y_test = dataset['X_train'], dataset['y_train'],\\\n",
    "                                       dataset['X_test'], dataset['y_test']\n",
    "    \n",
    "    m, d = X_train.shape\n",
    "    scores = []\n",
    "    batch_size = int(m // n_batches)\n",
    "    for k in range(n_batches):\n",
    "        if k != n_batches - 1:\n",
    "            X = X_train[k*batch_size:(k+1)*batch_size]\n",
    "            y = y_train[k*batch_size:(k+1)*batch_size]\n",
    "        else:\n",
    "            # the last update -- last part of the dataset\n",
    "            X = X_train[k*batch_size:]\n",
    "            y = y_train[k*batch_size:]\n",
    "        \n",
    "        local_scores = []\n",
    "        for n in range(n_repeats):\n",
    "            if k == 0:\n",
    "                model_ = model(**params)\n",
    "                model_.fit(X, y)\n",
    "            else:\n",
    "                model_.refit(X, y)\n",
    "            y_pred = model_.predict(X_test)\n",
    "            local_scores.append(accuracy_score(y_test, y_pred))\n",
    "        scores.append(local_scores)\n",
    "        print(f'{k} round completed' )\n",
    "    \n",
    "    return scores       "
   ]
  },
  {
   "cell_type": "code",
   "execution_count": 83,
   "metadata": {},
   "outputs": [
    {
     "name": "stdout",
     "output_type": "stream",
     "text": [
      "0 round completed\n",
      "1 round completed\n",
      "2 round completed\n",
      "3 round completed\n",
      "4 round completed\n",
      "5 round completed\n",
      "6 round completed\n",
      "7 round completed\n",
      "8 round completed\n",
      "9 round completed\n",
      "CPU times: user 1min 15s, sys: 10.5 s, total: 1min 25s\n",
      "Wall time: 1min 26s\n"
     ]
    }
   ],
   "source": [
    "%%time\n",
    "params = {'n_estimators' : 10, 'splitter' : 'random', 'criterion' : 'gini',\n",
    "           'min_samples_split' : 50, 'bootstrap' : True, 'oob_score': True}\n",
    "\n",
    "rf = RandomForestClassifier\n",
    "rf_scores = sliding_window_refit(datasets['usps'], rf, **params)"
   ]
  },
  {
   "cell_type": "code",
   "execution_count": 88,
   "metadata": {},
   "outputs": [],
   "source": [
    "third_strategy_scores = np.array(rf_scores)\n",
    "third_strategy_means = np.mean(third_strategy_scores, axis=1)\n",
    "third_strategy_stds = np.std(third_strategy_scores, axis=1)\n",
    "results['USPS']['RF_3'] = (third_strategy_means, third_strategy_stds)"
   ]
  },
  {
   "cell_type": "markdown",
   "metadata": {},
   "source": [
    "___"
   ]
  },
  {
   "cell_type": "markdown",
   "metadata": {},
   "source": [
    "#### Online RF"
   ]
  },
  {
   "cell_type": "code",
   "execution_count": null,
   "metadata": {},
   "outputs": [],
   "source": []
  },
  {
   "cell_type": "markdown",
   "metadata": {},
   "source": [
    "___"
   ]
  },
  {
   "cell_type": "markdown",
   "metadata": {},
   "source": [
    "#### Results"
   ]
  },
  {
   "cell_type": "code",
   "execution_count": 89,
   "metadata": {},
   "outputs": [
    {
     "data": {
      "image/png": "[encoded data removed]",
      "text/plain": [
       "<Figure size 720x360 with 1 Axes>"
      ]
     },
     "metadata": {},
     "output_type": "display_data"
    }
   ],
   "source": [
    "plt.figure(figsize=(10, 5))\n",
    "plt.title('USPS dataset')\n",
    "plt.plot(list(range(10, 110, 10)), results['USPS']['RF_2'][0], ls='--', marker='o', label='RF_2')\n",
    "plt.fill_between(list(range(10, 110, 10)), results['USPS']['RF_2'][0] - results['USPS']['RF_2'][1], \n",
    "                 results['USPS']['RF_2'][0] + results['USPS']['RF_2'][1], alpha=0.3)\n",
    "\n",
    "plt.plot(list(range(10, 110, 10)), results['USPS']['RF_3'][0], ls='--', marker='s', label='RF_3')\n",
    "plt.fill_between(list(range(10, 110, 10)), results['USPS']['RF_3'][0] - results['USPS']['RF_3'][1], \n",
    "                 results['USPS']['RF_3'][0] + results['USPS']['RF_3'][1], alpha=0.3)\n",
    "\n",
    "plt.grid(True)\n",
    "plt.legend();"
   ]
  },
  {
   "cell_type": "code",
   "execution_count": null,
   "metadata": {},
   "outputs": [],
   "source": []
  }
 ],
 "metadata": {
  "kernelspec": {
   "display_name": "Python 3",
   "language": "python",
   "name": "python3"
  },
  "language_info": {
   "codemirror_mode": {
    "name": "ipython",
    "version": 3
   },
   "file_extension": ".py",
   "mimetype": "text/x-python",
   "name": "python",
   "nbconvert_exporter": "python",
   "pygments_lexer": "ipython3",
   "version": "3.7.0"
  }
 },
 "nbformat": 4,
 "nbformat_minor": 2
}
