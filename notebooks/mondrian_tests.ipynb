{
 "cells": [
  {
   "cell_type": "code",
   "execution_count": 4,
   "metadata": {},
   "outputs": [],
   "source": [
    "import h5py\n",
    "import numpy as np\n",
    "import pandas as pd\n",
    "from sklearn.model_selection import train_test_split\n",
    "from functools import reduce\n",
    "import matplotlib.pyplot as plt\n",
    "\n",
    "import warnings\n",
    "import sys\n",
    "warnings.simplefilter('ignore')"
   ]
  },
  {
   "cell_type": "markdown",
   "metadata": {},
   "source": [
    "Change the path to import classes!"
   ]
  },
  {
   "cell_type": "code",
   "execution_count": 6,
   "metadata": {},
   "outputs": [],
   "source": [
    "sys.path.append('/Users/mikhail/projects/edu/skoltech/ml/project/RF-online/src/')"
   ]
  },
  {
   "cell_type": "code",
   "execution_count": 8,
   "metadata": {},
   "outputs": [],
   "source": [
    "from online.mondrian_forest import MRF"
   ]
  },
  {
   "cell_type": "code",
   "execution_count": 4,
   "metadata": {},
   "outputs": [],
   "source": [
    "def hdf5(path, data_key = \"data\", target_key = \"target\", flatten = True):\n",
    "    with h5py.File(path, 'r') as hf:\n",
    "        train = hf.get('train')\n",
    "        X_tr = train.get(data_key)[:]\n",
    "        y_tr = train.get(target_key)[:]\n",
    "        test = hf.get('test')\n",
    "        X_te = test.get(data_key)[:]\n",
    "        y_te = test.get(target_key)[:]\n",
    "        if flatten:\n",
    "            X_tr = X_tr.reshape(X_tr.shape[0], reduce(lambda a, b: a * b, X_tr.shape[1:]))\n",
    "            X_te = X_te.reshape(X_te.shape[0], reduce(lambda a, b: a * b, X_te.shape[1:]))\n",
    "    return X_tr, y_tr, X_te, y_te"
   ]
  },
  {
   "cell_type": "code",
   "execution_count": 5,
   "metadata": {},
   "outputs": [],
   "source": [
    "X_train, y_train, X_test, y_test = hdf5('usps.h5')"
   ]
  },
  {
   "cell_type": "code",
   "execution_count": 6,
   "metadata": {},
   "outputs": [],
   "source": [
    "from tqdm import tqdm_notebook\n",
    "import math\n",
    "from collections import Counter\n",
    "from sklearn.metrics import accuracy_score\n",
    "\n",
    "import matplotlib.pyplot as plt\n",
    "%matplotlib inline"
   ]
  },
  {
   "cell_type": "code",
   "execution_count": 7,
   "metadata": {},
   "outputs": [],
   "source": [
    "import time"
   ]
  },
  {
   "cell_type": "code",
   "execution_count": 8,
   "metadata": {},
   "outputs": [
    {
     "data": {
      "application/vnd.jupyter.widget-view+json": {
       "model_id": "5899232acc274263aadd2c81ede5978b",
       "version_major": 2,
       "version_minor": 0
      },
      "text/plain": [
       "HBox(children=(IntProgress(value=0, max=10), HTML(value='')))"
      ]
     },
     "metadata": {},
     "output_type": "display_data"
    },
    {
     "name": "stdout",
     "output_type": "stream",
     "text": [
      "Threshold:  0.1\n",
      "Accuracy:  0.7907324364723468\n",
      "Threshold:  0.2\n",
      "Accuracy:  0.8261086198305929\n",
      "Threshold:  0.30000000000000004\n",
      "Accuracy:  0.8460388639760837\n",
      "Threshold:  0.4\n",
      "Accuracy:  0.8674638764324863\n",
      "Threshold:  0.5\n",
      "Accuracy:  0.8739412057797707\n",
      "Threshold:  0.6\n",
      "Accuracy:  0.8804185351270553\n",
      "Threshold:  0.7000000000000001\n",
      "Accuracy:  0.8888888888888888\n",
      "Threshold:  0.8\n",
      "Accuracy:  0.8893871449925261\n",
      "Threshold:  0.9\n",
      "Accuracy:  0.8993522670652716\n",
      "Threshold:  1.0\n",
      "Accuracy:  0.8958644743398106\n",
      "\n"
     ]
    }
   ],
   "source": [
    "X_train_size = X_train.shape[0]\n",
    "y_train_size = y_train.shape[0]\n",
    "\n",
    "thresholds = np.arange(0.1, 1.1, 0.1)\n",
    "\n",
    "accuracy_list = []\n",
    "\n",
    "time_list = []\n",
    "\n",
    "for threshold in tqdm_notebook(thresholds):\n",
    "\n",
    "    forest = []\n",
    "    results = []\n",
    "    predicted = []\n",
    "    \n",
    "    print(\"Threshold: \", threshold)\n",
    "\n",
    "    tree = MRF(n_estimators=10)\n",
    "    start = time.time()\n",
    "    tree.fit(X_train[:int(X_train_size * threshold)], y_train[:int(y_train_size * threshold)])\n",
    "    end = time.time()\n",
    "    difference = end - start\n",
    "    time_list.append(difference)\n",
    "    result = tree.predict(X_test)\n",
    "    acc = accuracy_score(y_test, result)\n",
    "    print(\"Accuracy: \", acc)\n",
    "    accuracy_list.append(acc)"
   ]
  },
  {
   "cell_type": "code",
   "execution_count": 9,
   "metadata": {},
   "outputs": [
    {
     "data": {
      "text/plain": [
       "[0.7907324364723468,\n",
       " 0.8261086198305929,\n",
       " 0.8460388639760837,\n",
       " 0.8674638764324863,\n",
       " 0.8739412057797707,\n",
       " 0.8804185351270553,\n",
       " 0.8888888888888888,\n",
       " 0.8893871449925261,\n",
       " 0.8993522670652716,\n",
       " 0.8958644743398106]"
      ]
     },
     "execution_count": 9,
     "metadata": {},
     "output_type": "execute_result"
    }
   ],
   "source": [
    "accuracy_list"
   ]
  },
  {
   "cell_type": "code",
   "execution_count": 10,
   "metadata": {},
   "outputs": [
    {
     "data": {
      "image/png": "[encoded data removed]",
      "text/plain": [
       "<Figure size 1080x504 with 1 Axes>"
      ]
     },
     "metadata": {},
     "output_type": "display_data"
    }
   ],
   "source": [
    "plt.figure(figsize=(15,7))\n",
    "plt.title(\"usps dataset\")\n",
    "plt.xlabel(\"Training data\")\n",
    "plt.ylabel(\"Accuracy\")\n",
    "plt.plot(thresholds, accuracy_list)\n",
    "plt.show()"
   ]
  },
  {
   "cell_type": "code",
   "execution_count": 23,
   "metadata": {},
   "outputs": [],
   "source": [
    "def letter_dataset():\n",
    "    df = pd.read_csv('letter-recognition.data', header=None)\n",
    "    data = df.loc[:,1:]\n",
    "    target = df[0].apply(lambda x: ord(x) - ord('A'))\n",
    "    target = np.array(target)\n",
    "    data = np.array(data)\n",
    "    X_train, X_test, y_train, y_test = train_test_split(data, target)\n",
    "    \n",
    "    return X_train, X_test, y_train, y_test"
   ]
  },
  {
   "cell_type": "code",
   "execution_count": 24,
   "metadata": {},
   "outputs": [],
   "source": [
    "X_train, X_test, y_train, y_test = letter_dataset()"
   ]
  },
  {
   "cell_type": "code",
   "execution_count": 25,
   "metadata": {},
   "outputs": [
    {
     "data": {
      "application/vnd.jupyter.widget-view+json": {
       "model_id": "54d2fc7ce771485e9c8e1b77b00c6905",
       "version_major": 2,
       "version_minor": 0
      },
      "text/plain": [
       "HBox(children=(IntProgress(value=0, max=9), HTML(value='')))"
      ]
     },
     "metadata": {},
     "output_type": "display_data"
    },
    {
     "name": "stdout",
     "output_type": "stream",
     "text": [
      "Threshold:  0.2\n",
      "Accuracy:  0.8426\n",
      "Threshold:  0.30000000000000004\n",
      "Accuracy:  0.8736\n",
      "Threshold:  0.4000000000000001\n",
      "Accuracy:  0.894\n",
      "Threshold:  0.5000000000000001\n",
      "Accuracy:  0.8992\n",
      "Threshold:  0.6000000000000001\n",
      "Accuracy:  0.9106\n",
      "Threshold:  0.7000000000000002\n",
      "Accuracy:  0.9202\n",
      "Threshold:  0.8000000000000003\n",
      "Accuracy:  0.9286\n",
      "Threshold:  0.9000000000000001\n",
      "Accuracy:  0.9318\n",
      "Threshold:  1.0000000000000002\n",
      "Accuracy:  0.9366\n"
     ]
    }
   ],
   "source": [
    "X_train_size = X_train.shape[0]\n",
    "y_train_size = y_train.shape[0]\n",
    "\n",
    "thresholds = np.arange(0.2, 1.1, 0.1)\n",
    "\n",
    "accuracy_list = []\n",
    "time_list = []\n",
    "\n",
    "for threshold in tqdm_notebook(thresholds):\n",
    "\n",
    "    forest = []\n",
    "    results = []\n",
    "    predicted = []\n",
    "    \n",
    "    \n",
    "    print(\"Threshold: \", threshold)\n",
    "\n",
    "    tree = MRF(n_estimators=10)\n",
    "    start = time.time()\n",
    "    tree.fit(X_train[:int(X_train_size * threshold)], y_train[:int(y_train_size * threshold)])\n",
    "    end = time.time()\n",
    "        \n",
    "    difference = end - start\n",
    "    \n",
    "    time_list.append(difference)\n",
    "\n",
    "    result = tree.predict(X_test)\n",
    "    acc = accuracy_score(y_test, result)\n",
    "    print(\"Accuracy: \", acc)\n",
    "    accuracy_list.append(acc)"
   ]
  },
  {
   "cell_type": "code",
   "execution_count": 27,
   "metadata": {},
   "outputs": [
    {
     "data": {
      "image/png": "[encoded data removed]",
      "text/plain": [
       "<Figure size 1080x504 with 1 Axes>"
      ]
     },
     "metadata": {},
     "output_type": "display_data"
    }
   ],
   "source": [
    "plt.figure(figsize=(15,7))\n",
    "plt.title(\"letter dataset\")\n",
    "plt.xlabel(\"Training data\")\n",
    "plt.ylabel(\"Accuracy\")\n",
    "plt.plot(thresholds, accuracy_list)\n",
    "plt.show()"
   ]
  },
  {
   "cell_type": "code",
   "execution_count": 17,
   "metadata": {},
   "outputs": [
    {
     "data": {
      "text/html": [
       "<div>\n",
       "<style scoped>\n",
       "    .dataframe tbody tr th:only-of-type {\n",
       "        vertical-align: middle;\n",
       "    }\n",
       "\n",
       "    .dataframe tbody tr th {\n",
       "        vertical-align: top;\n",
       "    }\n",
       "\n",
       "    .dataframe thead th {\n",
       "        text-align: right;\n",
       "    }\n",
       "</style>\n",
       "<table border=\"1\" class=\"dataframe\">\n",
       "  <thead>\n",
       "    <tr style=\"text-align: right;\">\n",
       "      <th></th>\n",
       "      <th>target</th>\n",
       "      <th>cap-shape</th>\n",
       "      <th>cap-surface</th>\n",
       "      <th>cap-color</th>\n",
       "      <th>odor</th>\n",
       "      <th>high</th>\n",
       "      <th>gill-attachment</th>\n",
       "      <th>gill-spacing</th>\n",
       "      <th>gill-size</th>\n",
       "      <th>gill-color</th>\n",
       "      <th>...</th>\n",
       "      <th>stalk-surface-below-ring</th>\n",
       "      <th>stalk-color-above-ring</th>\n",
       "      <th>stalk-color-below-ring</th>\n",
       "      <th>veil-type</th>\n",
       "      <th>veil-color</th>\n",
       "      <th>ring-number</th>\n",
       "      <th>ring-type</th>\n",
       "      <th>spore-print-color</th>\n",
       "      <th>population</th>\n",
       "      <th>habitat</th>\n",
       "    </tr>\n",
       "  </thead>\n",
       "  <tbody>\n",
       "    <tr>\n",
       "      <th>0</th>\n",
       "      <td>1</td>\n",
       "      <td>5</td>\n",
       "      <td>2</td>\n",
       "      <td>4</td>\n",
       "      <td>1</td>\n",
       "      <td>6</td>\n",
       "      <td>1</td>\n",
       "      <td>0</td>\n",
       "      <td>1</td>\n",
       "      <td>4</td>\n",
       "      <td>...</td>\n",
       "      <td>2</td>\n",
       "      <td>7</td>\n",
       "      <td>7</td>\n",
       "      <td>0</td>\n",
       "      <td>2</td>\n",
       "      <td>1</td>\n",
       "      <td>4</td>\n",
       "      <td>2</td>\n",
       "      <td>3</td>\n",
       "      <td>5</td>\n",
       "    </tr>\n",
       "    <tr>\n",
       "      <th>1</th>\n",
       "      <td>0</td>\n",
       "      <td>5</td>\n",
       "      <td>2</td>\n",
       "      <td>9</td>\n",
       "      <td>1</td>\n",
       "      <td>0</td>\n",
       "      <td>1</td>\n",
       "      <td>0</td>\n",
       "      <td>0</td>\n",
       "      <td>4</td>\n",
       "      <td>...</td>\n",
       "      <td>2</td>\n",
       "      <td>7</td>\n",
       "      <td>7</td>\n",
       "      <td>0</td>\n",
       "      <td>2</td>\n",
       "      <td>1</td>\n",
       "      <td>4</td>\n",
       "      <td>3</td>\n",
       "      <td>2</td>\n",
       "      <td>1</td>\n",
       "    </tr>\n",
       "    <tr>\n",
       "      <th>2</th>\n",
       "      <td>0</td>\n",
       "      <td>0</td>\n",
       "      <td>2</td>\n",
       "      <td>8</td>\n",
       "      <td>1</td>\n",
       "      <td>3</td>\n",
       "      <td>1</td>\n",
       "      <td>0</td>\n",
       "      <td>0</td>\n",
       "      <td>5</td>\n",
       "      <td>...</td>\n",
       "      <td>2</td>\n",
       "      <td>7</td>\n",
       "      <td>7</td>\n",
       "      <td>0</td>\n",
       "      <td>2</td>\n",
       "      <td>1</td>\n",
       "      <td>4</td>\n",
       "      <td>3</td>\n",
       "      <td>2</td>\n",
       "      <td>3</td>\n",
       "    </tr>\n",
       "    <tr>\n",
       "      <th>3</th>\n",
       "      <td>1</td>\n",
       "      <td>5</td>\n",
       "      <td>3</td>\n",
       "      <td>8</td>\n",
       "      <td>1</td>\n",
       "      <td>6</td>\n",
       "      <td>1</td>\n",
       "      <td>0</td>\n",
       "      <td>1</td>\n",
       "      <td>5</td>\n",
       "      <td>...</td>\n",
       "      <td>2</td>\n",
       "      <td>7</td>\n",
       "      <td>7</td>\n",
       "      <td>0</td>\n",
       "      <td>2</td>\n",
       "      <td>1</td>\n",
       "      <td>4</td>\n",
       "      <td>2</td>\n",
       "      <td>3</td>\n",
       "      <td>5</td>\n",
       "    </tr>\n",
       "    <tr>\n",
       "      <th>4</th>\n",
       "      <td>0</td>\n",
       "      <td>5</td>\n",
       "      <td>2</td>\n",
       "      <td>3</td>\n",
       "      <td>0</td>\n",
       "      <td>5</td>\n",
       "      <td>1</td>\n",
       "      <td>1</td>\n",
       "      <td>0</td>\n",
       "      <td>4</td>\n",
       "      <td>...</td>\n",
       "      <td>2</td>\n",
       "      <td>7</td>\n",
       "      <td>7</td>\n",
       "      <td>0</td>\n",
       "      <td>2</td>\n",
       "      <td>1</td>\n",
       "      <td>0</td>\n",
       "      <td>3</td>\n",
       "      <td>0</td>\n",
       "      <td>1</td>\n",
       "    </tr>\n",
       "  </tbody>\n",
       "</table>\n",
       "<p>5 rows × 23 columns</p>\n",
       "</div>"
      ],
      "text/plain": [
       "   target  cap-shape  cap-surface  cap-color  odor  high  gill-attachment  \\\n",
       "0       1          5            2          4     1     6                1   \n",
       "1       0          5            2          9     1     0                1   \n",
       "2       0          0            2          8     1     3                1   \n",
       "3       1          5            3          8     1     6                1   \n",
       "4       0          5            2          3     0     5                1   \n",
       "\n",
       "   gill-spacing  gill-size  gill-color   ...     stalk-surface-below-ring  \\\n",
       "0             0          1           4   ...                            2   \n",
       "1             0          0           4   ...                            2   \n",
       "2             0          0           5   ...                            2   \n",
       "3             0          1           5   ...                            2   \n",
       "4             1          0           4   ...                            2   \n",
       "\n",
       "   stalk-color-above-ring  stalk-color-below-ring  veil-type  veil-color  \\\n",
       "0                       7                       7          0           2   \n",
       "1                       7                       7          0           2   \n",
       "2                       7                       7          0           2   \n",
       "3                       7                       7          0           2   \n",
       "4                       7                       7          0           2   \n",
       "\n",
       "   ring-number  ring-type  spore-print-color  population  habitat  \n",
       "0            1          4                  2           3        5  \n",
       "1            1          4                  3           2        1  \n",
       "2            1          4                  3           2        3  \n",
       "3            1          4                  2           3        5  \n",
       "4            1          0                  3           0        1  \n",
       "\n",
       "[5 rows x 23 columns]"
      ]
     },
     "execution_count": 17,
     "metadata": {},
     "output_type": "execute_result"
    }
   ],
   "source": [
    "cols = ['target', 'cap-shape', 'cap-surface', 'cap-color', 'odor', 'high', 'gill-attachment', 'gill-spacing',\n",
    "       'gill-size', 'gill-color', 'stalk-shape', 'stalk-root', 'stalk-surface-above-ring', 'stalk-surface-below-ring', 'stalk-color-above-ring',\n",
    "       'stalk-color-below-ring', 'veil-type', 'veil-color', 'ring-number', 'ring-type',\n",
    "        'spore-print-color', 'population', 'habitat'\n",
    "       ]\n",
    "mushroom_dataset = pd.read_csv('agaricus-lepiota.data.txt', sep=',', names=cols)\n",
    "mushroom_dataset.head()\n",
    "\n",
    "for col in cols:\n",
    "    mushroom_dataset[col] = mushroom_dataset[col].astype('category').cat.codes\n",
    "mushroom_dataset.head()"
   ]
  },
  {
   "cell_type": "code",
   "execution_count": 18,
   "metadata": {},
   "outputs": [],
   "source": [
    "X = mushroom_dataset.iloc[:, 1:].values\n",
    "y = mushroom_dataset.iloc[:, 0].values\n",
    "\n",
    "X_train, X_test, y_train, y_test = train_test_split(X, y, test_size=.3, shuffle=True)"
   ]
  },
  {
   "cell_type": "code",
   "execution_count": 20,
   "metadata": {},
   "outputs": [
    {
     "data": {
      "application/vnd.jupyter.widget-view+json": {
       "model_id": "fead89a1d3844f0f8203a68dafbde3d8",
       "version_major": 2,
       "version_minor": 0
      },
      "text/plain": [
       "HBox(children=(IntProgress(value=0, max=9), HTML(value='')))"
      ]
     },
     "metadata": {},
     "output_type": "display_data"
    },
    {
     "name": "stdout",
     "output_type": "stream",
     "text": [
      "Threshold:  0.2\n",
      "0.9958982772764561\n",
      "Threshold:  0.30000000000000004\n",
      "0.867104183757178\n",
      "Threshold:  0.4000000000000001\n",
      "0.9991796554552912\n",
      "Threshold:  0.5000000000000001\n",
      "1.0\n",
      "Threshold:  0.6000000000000001\n",
      "0.938884331419196\n",
      "Threshold:  0.7000000000000002\n",
      "1.0\n",
      "Threshold:  0.8000000000000003\n",
      "1.0\n",
      "Threshold:  0.9000000000000001\n",
      "1.0\n",
      "Threshold:  1.0000000000000002\n",
      "1.0\n"
     ]
    }
   ],
   "source": [
    "X_train_size = X_train.shape[0]\n",
    "y_train_size = y_train.shape[0]\n",
    "\n",
    "thresholds = np.arange(0.2, 1.1, 0.1)\n",
    "\n",
    "accuracy_list = []\n",
    "time_list = []\n",
    "\n",
    "for threshold in tqdm_notebook(thresholds):\n",
    "\n",
    "    forest = []\n",
    "    results = []\n",
    "    predicted = []\n",
    "    \n",
    "    print(\"Threshold: \", threshold)\n",
    "\n",
    "#     for i in tqdm_notebook(range(10)):\n",
    "    tree = MRF(n_estimators=10)\n",
    "    start = time.time()\n",
    "    tree.fit(X_train[:int(X_train_size * threshold)], y_train[:int(y_train_size * threshold)])\n",
    "    end = time.time()\n",
    "    \n",
    "    difference = end - start\n",
    "    \n",
    "    time_list.append(difference)\n",
    "    \n",
    "    result = tree.predict(X_test)\n",
    "    acc = accuracy_score(y_test, result)\n",
    "    print(acc)\n",
    "    accuracy_list.append(acc)"
   ]
  },
  {
   "cell_type": "code",
   "execution_count": 21,
   "metadata": {},
   "outputs": [
    {
     "data": {
      "image/png": "[encoded data removed]",
      "text/plain": [
       "<Figure size 1080x504 with 1 Axes>"
      ]
     },
     "metadata": {},
     "output_type": "display_data"
    }
   ],
   "source": [
    "plt.figure(figsize=(15,7))\n",
    "plt.title(\"Mushroom dataset\")\n",
    "plt.xlabel(\"Training data\")\n",
    "plt.ylabel(\"Accuracy\")\n",
    "plt.plot(thresholds, accuracy_list)\n",
    "plt.show()"
   ]
  },
  {
   "cell_type": "code",
   "execution_count": null,
   "metadata": {},
   "outputs": [],
   "source": []
  }
 ],
 "metadata": {
  "kernelspec": {
   "display_name": "Python 3",
   "language": "python",
   "name": "python3"
  },
  "language_info": {
   "codemirror_mode": {
    "name": "ipython",
    "version": 3
   },
   "file_extension": ".py",
   "mimetype": "text/x-python",
   "name": "python",
   "nbconvert_exporter": "python",
   "pygments_lexer": "ipython3",
   "version": "3.7.0"
  }
 },
 "nbformat": 4,
 "nbformat_minor": 2
}
